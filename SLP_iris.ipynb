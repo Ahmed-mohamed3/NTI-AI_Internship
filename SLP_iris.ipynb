{
  "nbformat": 4,
  "nbformat_minor": 0,
  "metadata": {
    "colab": {
      "provenance": [],
      "collapsed_sections": []
    },
    "kernelspec": {
      "name": "python3",
      "display_name": "Python 3"
    },
    "language_info": {
      "name": "python"
    },
    "accelerator": "GPU",
    "gpuClass": "standard"
  },
  "cells": [
    {
      "cell_type": "markdown",
      "source": [
        "A simple neural network written in Keras (TensorFlow backend) to classify the IRIS data\n"
      ],
      "metadata": {
        "id": "06hDZBJ7j-UE"
      }
    },
    {
      "cell_type": "code",
      "source": [
        "import numpy as np\n",
        "\n",
        "from sklearn.datasets import load_iris\n",
        "from sklearn.model_selection import train_test_split\n",
        "from sklearn.preprocessing import OneHotEncoder\n",
        "\n",
        "from keras.models import Sequential\n",
        "from keras.layers import Dense\n",
        "#from keras.optimizers import Adam\n",
        "from keras.callbacks import EarlyStopping\n",
        "\n",
        "import matplotlib.pyplot as plt"
      ],
      "metadata": {
        "id": "oBJCpWHAjzwd"
      },
      "execution_count": 1,
      "outputs": []
    },
    {
      "cell_type": "code",
      "source": [
        "iris_data = load_iris() # load the iris dataset\n",
        "\n",
        "print('Example data: ')\n",
        "print(iris_data.data[:5])\n",
        "print('Example labels: ')\n",
        "print(iris_data.target[:5])#30:"
      ],
      "metadata": {
        "colab": {
          "base_uri": "https://localhost:8080/"
        },
        "id": "YqDB3ABBkUeH",
        "outputId": "01f2c6f5-7caf-4205-b3fd-ebd8cd07ad11"
      },
      "execution_count": 2,
      "outputs": [
        {
          "output_type": "stream",
          "name": "stdout",
          "text": [
            "Example data: \n",
            "[[5.1 3.5 1.4 0.2]\n",
            " [4.9 3.  1.4 0.2]\n",
            " [4.7 3.2 1.3 0.2]\n",
            " [4.6 3.1 1.5 0.2]\n",
            " [5.  3.6 1.4 0.2]]\n",
            "Example labels: \n",
            "[0 0 0 0 0]\n"
          ]
        }
      ]
    },
    {
      "cell_type": "code",
      "source": [
        "x = iris_data.data\n",
        "y_ = iris_data.target.reshape(-1, 1) # Convert data to a single column"
      ],
      "metadata": {
        "id": "GanV4eq7kuv2"
      },
      "execution_count": 3,
      "outputs": []
    },
    {
      "cell_type": "code",
      "source": [
        "print(x.shape)\n",
        "print(y_.shape)"
      ],
      "metadata": {
        "colab": {
          "base_uri": "https://localhost:8080/"
        },
        "id": "d8VFjVJuk2Ys",
        "outputId": "77938e60-54da-4950-f378-a5cd6732adac"
      },
      "execution_count": 4,
      "outputs": [
        {
          "output_type": "stream",
          "name": "stdout",
          "text": [
            "(150, 4)\n",
            "(150, 1)\n"
          ]
        }
      ]
    },
    {
      "cell_type": "code",
      "source": [
        "# One Hot encode the class labels\n",
        "encoder = OneHotEncoder(sparse=False)#True\n",
        "y = encoder.fit_transform(y_)\n",
        "print(y.shape,type(y))\n",
        "print(y)#.T"
      ],
      "metadata": {
        "colab": {
          "base_uri": "https://localhost:8080/"
        },
        "id": "Z72kKH9mlyrg",
        "outputId": "2581eb0d-9f43-4b62-8338-1aee25e0d6f8"
      },
      "execution_count": 5,
      "outputs": [
        {
          "output_type": "stream",
          "name": "stdout",
          "text": [
            "(150, 3) <class 'numpy.ndarray'>\n",
            "[[1. 0. 0.]\n",
            " [1. 0. 0.]\n",
            " [1. 0. 0.]\n",
            " [1. 0. 0.]\n",
            " [1. 0. 0.]\n",
            " [1. 0. 0.]\n",
            " [1. 0. 0.]\n",
            " [1. 0. 0.]\n",
            " [1. 0. 0.]\n",
            " [1. 0. 0.]\n",
            " [1. 0. 0.]\n",
            " [1. 0. 0.]\n",
            " [1. 0. 0.]\n",
            " [1. 0. 0.]\n",
            " [1. 0. 0.]\n",
            " [1. 0. 0.]\n",
            " [1. 0. 0.]\n",
            " [1. 0. 0.]\n",
            " [1. 0. 0.]\n",
            " [1. 0. 0.]\n",
            " [1. 0. 0.]\n",
            " [1. 0. 0.]\n",
            " [1. 0. 0.]\n",
            " [1. 0. 0.]\n",
            " [1. 0. 0.]\n",
            " [1. 0. 0.]\n",
            " [1. 0. 0.]\n",
            " [1. 0. 0.]\n",
            " [1. 0. 0.]\n",
            " [1. 0. 0.]\n",
            " [1. 0. 0.]\n",
            " [1. 0. 0.]\n",
            " [1. 0. 0.]\n",
            " [1. 0. 0.]\n",
            " [1. 0. 0.]\n",
            " [1. 0. 0.]\n",
            " [1. 0. 0.]\n",
            " [1. 0. 0.]\n",
            " [1. 0. 0.]\n",
            " [1. 0. 0.]\n",
            " [1. 0. 0.]\n",
            " [1. 0. 0.]\n",
            " [1. 0. 0.]\n",
            " [1. 0. 0.]\n",
            " [1. 0. 0.]\n",
            " [1. 0. 0.]\n",
            " [1. 0. 0.]\n",
            " [1. 0. 0.]\n",
            " [1. 0. 0.]\n",
            " [1. 0. 0.]\n",
            " [0. 1. 0.]\n",
            " [0. 1. 0.]\n",
            " [0. 1. 0.]\n",
            " [0. 1. 0.]\n",
            " [0. 1. 0.]\n",
            " [0. 1. 0.]\n",
            " [0. 1. 0.]\n",
            " [0. 1. 0.]\n",
            " [0. 1. 0.]\n",
            " [0. 1. 0.]\n",
            " [0. 1. 0.]\n",
            " [0. 1. 0.]\n",
            " [0. 1. 0.]\n",
            " [0. 1. 0.]\n",
            " [0. 1. 0.]\n",
            " [0. 1. 0.]\n",
            " [0. 1. 0.]\n",
            " [0. 1. 0.]\n",
            " [0. 1. 0.]\n",
            " [0. 1. 0.]\n",
            " [0. 1. 0.]\n",
            " [0. 1. 0.]\n",
            " [0. 1. 0.]\n",
            " [0. 1. 0.]\n",
            " [0. 1. 0.]\n",
            " [0. 1. 0.]\n",
            " [0. 1. 0.]\n",
            " [0. 1. 0.]\n",
            " [0. 1. 0.]\n",
            " [0. 1. 0.]\n",
            " [0. 1. 0.]\n",
            " [0. 1. 0.]\n",
            " [0. 1. 0.]\n",
            " [0. 1. 0.]\n",
            " [0. 1. 0.]\n",
            " [0. 1. 0.]\n",
            " [0. 1. 0.]\n",
            " [0. 1. 0.]\n",
            " [0. 1. 0.]\n",
            " [0. 1. 0.]\n",
            " [0. 1. 0.]\n",
            " [0. 1. 0.]\n",
            " [0. 1. 0.]\n",
            " [0. 1. 0.]\n",
            " [0. 1. 0.]\n",
            " [0. 1. 0.]\n",
            " [0. 1. 0.]\n",
            " [0. 1. 0.]\n",
            " [0. 1. 0.]\n",
            " [0. 1. 0.]\n",
            " [0. 0. 1.]\n",
            " [0. 0. 1.]\n",
            " [0. 0. 1.]\n",
            " [0. 0. 1.]\n",
            " [0. 0. 1.]\n",
            " [0. 0. 1.]\n",
            " [0. 0. 1.]\n",
            " [0. 0. 1.]\n",
            " [0. 0. 1.]\n",
            " [0. 0. 1.]\n",
            " [0. 0. 1.]\n",
            " [0. 0. 1.]\n",
            " [0. 0. 1.]\n",
            " [0. 0. 1.]\n",
            " [0. 0. 1.]\n",
            " [0. 0. 1.]\n",
            " [0. 0. 1.]\n",
            " [0. 0. 1.]\n",
            " [0. 0. 1.]\n",
            " [0. 0. 1.]\n",
            " [0. 0. 1.]\n",
            " [0. 0. 1.]\n",
            " [0. 0. 1.]\n",
            " [0. 0. 1.]\n",
            " [0. 0. 1.]\n",
            " [0. 0. 1.]\n",
            " [0. 0. 1.]\n",
            " [0. 0. 1.]\n",
            " [0. 0. 1.]\n",
            " [0. 0. 1.]\n",
            " [0. 0. 1.]\n",
            " [0. 0. 1.]\n",
            " [0. 0. 1.]\n",
            " [0. 0. 1.]\n",
            " [0. 0. 1.]\n",
            " [0. 0. 1.]\n",
            " [0. 0. 1.]\n",
            " [0. 0. 1.]\n",
            " [0. 0. 1.]\n",
            " [0. 0. 1.]\n",
            " [0. 0. 1.]\n",
            " [0. 0. 1.]\n",
            " [0. 0. 1.]\n",
            " [0. 0. 1.]\n",
            " [0. 0. 1.]\n",
            " [0. 0. 1.]\n",
            " [0. 0. 1.]\n",
            " [0. 0. 1.]\n",
            " [0. 0. 1.]\n",
            " [0. 0. 1.]]\n"
          ]
        }
      ]
    },
    {
      "cell_type": "code",
      "source": [
        "# Split the data for training and testing\n",
        "train_x, test_x, train_y, test_y = train_test_split(x, y, test_size=0.20)\n",
        "train_x.shape"
      ],
      "metadata": {
        "colab": {
          "base_uri": "https://localhost:8080/"
        },
        "id": "CdmvHppqnwFI",
        "outputId": "22376a31-65bc-43ae-bf91-918a666f8a49"
      },
      "execution_count": 6,
      "outputs": [
        {
          "output_type": "execute_result",
          "data": {
            "text/plain": [
              "(120, 4)"
            ]
          },
          "metadata": {},
          "execution_count": 6
        }
      ]
    },
    {
      "cell_type": "code",
      "source": [
        "# Build the model\n",
        "model = Sequential()\n",
        "model.add(Dense(3, input_shape=(4,), activation='softmax', name='o/p_layer'))\n",
        "\n",
        "# Adam optimizer with learning rate of 0.001\n",
        "#optimizer = Adam(lr=0.001)\n",
        "model.compile(optimizer = 'adam', loss='categorical_crossentropy', metrics=['accuracy'])\n",
        "\n",
        "print('Neural Network Model Summary: ')\n",
        "print(model.summary())"
      ],
      "metadata": {
        "colab": {
          "base_uri": "https://localhost:8080/"
        },
        "id": "pGTnz2nxoA_q",
        "outputId": "c304d9de-0013-4e0a-e531-fc17ac16611d"
      },
      "execution_count": 7,
      "outputs": [
        {
          "output_type": "stream",
          "name": "stdout",
          "text": [
            "Neural Network Model Summary: \n",
            "Model: \"sequential\"\n",
            "_________________________________________________________________\n",
            " Layer (type)                Output Shape              Param #   \n",
            "=================================================================\n",
            " o/p_layer (Dense)           (None, 3)                 15        \n",
            "                                                                 \n",
            "=================================================================\n",
            "Total params: 15\n",
            "Trainable params: 15\n",
            "Non-trainable params: 0\n",
            "_________________________________________________________________\n",
            "None\n"
          ]
        }
      ]
    },
    {
      "cell_type": "code",
      "source": [
        "# Train the model\n",
        "early_stopping_monitor = EarlyStopping(min_delta = 0.1, patience = 10, monitor= \"val_accuracy\")  #How Many Epochs that model go without improving before we stop training\n",
        "results = model.fit(train_x, train_y, verbose=2, batch_size=5, epochs=500,validation_data=(test_x,test_y), callbacks= [early_stopping_monitor])#5"
      ],
      "metadata": {
        "colab": {
          "base_uri": "https://localhost:8080/"
        },
        "id": "tWmxFM9toMtx",
        "outputId": "b15060d0-3158-4c99-d3db-9f1eb3d7b8a1"
      },
      "execution_count": 8,
      "outputs": [
        {
          "output_type": "stream",
          "name": "stdout",
          "text": [
            "Epoch 1/500\n",
            "24/24 - 2s - loss: 4.7757 - accuracy: 0.3500 - val_loss: 5.8016 - val_accuracy: 0.2667 - 2s/epoch - 81ms/step\n",
            "Epoch 2/500\n",
            "24/24 - 0s - loss: 4.4702 - accuracy: 0.3667 - val_loss: 5.4475 - val_accuracy: 0.3000 - 181ms/epoch - 8ms/step\n",
            "Epoch 3/500\n",
            "24/24 - 0s - loss: 4.2033 - accuracy: 0.5250 - val_loss: 5.1280 - val_accuracy: 0.4667 - 131ms/epoch - 5ms/step\n",
            "Epoch 4/500\n",
            "24/24 - 0s - loss: 3.9635 - accuracy: 0.6667 - val_loss: 4.8299 - val_accuracy: 0.5667 - 116ms/epoch - 5ms/step\n",
            "Epoch 5/500\n",
            "24/24 - 0s - loss: 3.7361 - accuracy: 0.6833 - val_loss: 4.5567 - val_accuracy: 0.5667 - 164ms/epoch - 7ms/step\n",
            "Epoch 6/500\n",
            "24/24 - 0s - loss: 3.5266 - accuracy: 0.6833 - val_loss: 4.2799 - val_accuracy: 0.5667 - 117ms/epoch - 5ms/step\n",
            "Epoch 7/500\n",
            "24/24 - 0s - loss: 3.3082 - accuracy: 0.6833 - val_loss: 4.0308 - val_accuracy: 0.5667 - 142ms/epoch - 6ms/step\n",
            "Epoch 8/500\n",
            "24/24 - 0s - loss: 3.1078 - accuracy: 0.6833 - val_loss: 3.7531 - val_accuracy: 0.5667 - 107ms/epoch - 4ms/step\n",
            "Epoch 9/500\n",
            "24/24 - 0s - loss: 2.8957 - accuracy: 0.6833 - val_loss: 3.4847 - val_accuracy: 0.6000 - 98ms/epoch - 4ms/step\n",
            "Epoch 10/500\n",
            "24/24 - 0s - loss: 2.6899 - accuracy: 0.6833 - val_loss: 3.2203 - val_accuracy: 0.6000 - 136ms/epoch - 6ms/step\n",
            "Epoch 11/500\n",
            "24/24 - 0s - loss: 2.4818 - accuracy: 0.6833 - val_loss: 2.9711 - val_accuracy: 0.6000 - 158ms/epoch - 7ms/step\n",
            "Epoch 12/500\n",
            "24/24 - 0s - loss: 2.2852 - accuracy: 0.6833 - val_loss: 2.7104 - val_accuracy: 0.6000 - 159ms/epoch - 7ms/step\n",
            "Epoch 13/500\n",
            "24/24 - 0s - loss: 2.0917 - accuracy: 0.6833 - val_loss: 2.4484 - val_accuracy: 0.6000 - 147ms/epoch - 6ms/step\n",
            "Epoch 14/500\n",
            "24/24 - 0s - loss: 1.8959 - accuracy: 0.6833 - val_loss: 2.2071 - val_accuracy: 0.6000 - 100ms/epoch - 4ms/step\n",
            "Epoch 15/500\n",
            "24/24 - 0s - loss: 1.7124 - accuracy: 0.6833 - val_loss: 1.9818 - val_accuracy: 0.6000 - 119ms/epoch - 5ms/step\n",
            "Epoch 16/500\n",
            "24/24 - 0s - loss: 1.5463 - accuracy: 0.6833 - val_loss: 1.7664 - val_accuracy: 0.6000 - 144ms/epoch - 6ms/step\n",
            "Epoch 17/500\n",
            "24/24 - 0s - loss: 1.3953 - accuracy: 0.6833 - val_loss: 1.5687 - val_accuracy: 0.6000 - 104ms/epoch - 4ms/step\n",
            "Epoch 18/500\n",
            "24/24 - 0s - loss: 1.2693 - accuracy: 0.6833 - val_loss: 1.3905 - val_accuracy: 0.6000 - 128ms/epoch - 5ms/step\n",
            "Epoch 19/500\n",
            "24/24 - 0s - loss: 1.1502 - accuracy: 0.6833 - val_loss: 1.2735 - val_accuracy: 0.6000 - 123ms/epoch - 5ms/step\n"
          ]
        }
      ]
    },
    {
      "cell_type": "code",
      "execution_count": 9,
      "metadata": {
        "colab": {
          "base_uri": "https://localhost:8080/"
        },
        "id": "qsw6PKHVjx_j",
        "outputId": "399c7e4d-fa58-4a3d-d028-4d59c505b0d8"
      },
      "outputs": [
        {
          "output_type": "stream",
          "name": "stdout",
          "text": [
            "1/1 [==============================] - 0s 344ms/step - loss: 1.2735 - accuracy: 0.6000\n",
            "Final test set loss: 1.2735302448272705\n",
            "Final test set accuracy: 0.6000000238418579\n"
          ]
        }
      ],
      "source": [
        "# Test on unseen data\n",
        "\n",
        "result = model.evaluate(test_x, test_y)\n",
        "\n",
        "print('Final test set loss:',result[0])\n",
        "print('Final test set accuracy:',result[1])\n"
      ]
    },
    {
      "cell_type": "code",
      "source": [
        "plt.plot(results.history['loss'])\n",
        "plt.plot(results.history['val_loss'])\n",
        "plt.legend(['Training','Vaildation'])\n",
        "plt.title('Training and Validation Losses')\n",
        "plt.xlabel('epoches')\n",
        "plt.ylabel('losses')"
      ],
      "metadata": {
        "colab": {
          "base_uri": "https://localhost:8080/",
          "height": 312
        },
        "id": "aCyKra6mrIC4",
        "outputId": "223c9dcc-d857-4035-a86c-65e942b4cf00"
      },
      "execution_count": 10,
      "outputs": [
        {
          "output_type": "execute_result",
          "data": {
            "text/plain": [
              "Text(0, 0.5, 'losses')"
            ]
          },
          "metadata": {},
          "execution_count": 10
        },
        {
          "output_type": "display_data",
          "data": {
            "text/plain": [
              "<Figure size 432x288 with 1 Axes>"
            ],
            "image/png": "[encoded data removed]"
          },
          "metadata": {
            "needs_background": "light"
          }
        }
      ]
    },
    {
      "cell_type": "code",
      "source": [
        "plt.plot(results.history['accuracy'])\n",
        "plt.plot(results.history['val_accuracy'])\n",
        "plt.legend(['Training','Vaildation'])\n",
        "plt.title('Training and Validation Accuracy')\n",
        "plt.xlabel('epoches')\n",
        "plt.ylabel('accuracy')"
      ],
      "metadata": {
        "colab": {
          "base_uri": "https://localhost:8080/",
          "height": 312
        },
        "id": "EwkJt6FStXYi",
        "outputId": "3906e1a2-3dfd-4b02-c100-b784f84f4ac4"
      },
      "execution_count": 11,
      "outputs": [
        {
          "output_type": "execute_result",
          "data": {
            "text/plain": [
              "Text(0, 0.5, 'accuracy')"
            ]
          },
          "metadata": {},
          "execution_count": 11
        },
        {
          "output_type": "display_data",
          "data": {
            "text/plain": [
              "<Figure size 432x288 with 1 Axes>"
            ],
            "image/png": "[encoded data removed]"
          },
          "metadata": {
            "needs_background": "light"
          }
        }
      ]
    }
  ]
}